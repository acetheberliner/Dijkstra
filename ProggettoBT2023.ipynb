{
 "cells": [
  {
   "cell_type": "markdown",
   "metadata": {},
   "source": [
    "### **Progetto Algoritmi 2023**\n",
    "*Bagnolini Tommaso*"
   ]
  },
  {
   "cell_type": "markdown",
   "metadata": {},
   "source": [
    "----------"
   ]
  },
  {
   "cell_type": "markdown",
   "metadata": {},
   "source": [
    "**Consegna:**"
   ]
  },
  {
   "cell_type": "markdown",
   "metadata": {},
   "source": [
    "Si scriva un programma python che legge da file csv la matrice di adiacenza di un grafo e:\n",
    "1) determina se il grafo corrispondente è orientato o non orientato\n",
    "2) applica sul grafo un algoritmo compatibile non banale scelto fra quelli presentati a lezione (BFS, DFS,\n",
    "Kruskal, Prim, Dijkstra, Bellman-Ford, … )"
   ]
  },
  {
   "cell_type": "markdown",
   "metadata": {},
   "source": [
    "----"
   ]
  },
  {
   "cell_type": "markdown",
   "metadata": {},
   "source": [
    "**Importazione dei moduli necessari:**"
   ]
  },
  {
   "cell_type": "code",
   "execution_count": 1,
   "metadata": {},
   "outputs": [],
   "source": [
    "import random\n",
    "import numpy as np\n",
    "import csv\n",
    "import matplotlib.pyplot as plt\n",
    "import networkx as nx"
   ]
  },
  {
   "cell_type": "markdown",
   "metadata": {},
   "source": [
    "---"
   ]
  },
  {
   "cell_type": "markdown",
   "metadata": {},
   "source": [
    "**Obiettivi:**\n",
    "1) Leggere un file csv e copiarlo in una variabile\n",
    "2) Verificare l'orientamento del grafo\n",
    "3) Rappresentare il grafo\n",
    "4) Applicare un algoritmo non banale sul grafo"
   ]
  },
  {
   "cell_type": "markdown",
   "metadata": {},
   "source": [
    "---"
   ]
  },
  {
   "cell_type": "markdown",
   "metadata": {},
   "source": [
    "**Per garantire situazioni differenti ad ogni ripetizione dl codice, ho deciso di creare run-time il file della matrice di adiacenza tramite il modulo random e la scrittra su CSV**\n",
    "###### *il file viene salvato in 'matrice_adiacenza.csv'*"
   ]
  },
  {
   "cell_type": "code",
   "execution_count": 2,
   "metadata": {},
   "outputs": [],
   "source": [
    "dimensione=5\n",
    "matrice_adiacenza = [[0] * dimensione for _ in range(dimensione)]  # Inizializzazione di una matrice vuota\n",
    "for i in range(dimensione):\n",
    "    for j in range(dimensione):\n",
    "        if i != j:  # Imposta il peso solo se non si tratta del nodo stesso\n",
    "            peso_arco = random.randint(1, 2) \n",
    "            matrice_adiacenza[i][j] = peso_arco\n",
    "\n",
    "# Salvataggio dei dati della matrice di adiacenza in un file CSV\n",
    "with open('matrice_adiacenza.csv', mode='w', newline='') as file_csv:\n",
    "    writer = csv.writer(file_csv)\n",
    "    writer.writerows(matrice_adiacenza)"
   ]
  },
  {
   "cell_type": "markdown",
   "metadata": {},
   "source": [
    "--- "
   ]
  },
  {
   "cell_type": "markdown",
   "metadata": {},
   "source": [
    "**Procedo quindi a leggere il contenuto del file \"matrice_adiacenza.csv\" appena generato e lo salvo dentro ad un array numpy monodimensionale che chiamo 'mat'**"
   ]
  },
  {
   "cell_type": "code",
   "execution_count": 3,
   "metadata": {},
   "outputs": [],
   "source": [
    "def csv_read(file_path):\n",
    "    mat=[]\n",
    "    with open(file_path, 'r') as csvfile:\n",
    "        reader=csv.reader(csvfile)\n",
    "        for row in reader:\n",
    "            mat.append([int(value) for value in row])\n",
    "    return np.array(mat)"
   ]
  },
  {
   "cell_type": "markdown",
   "metadata": {},
   "source": [
    "---"
   ]
  },
  {
   "cell_type": "markdown",
   "metadata": {},
   "source": [
    "**Creo quindi un grafo a partire dall matrice generata precedentemente**"
   ]
  },
  {
   "cell_type": "code",
   "execution_count": 4,
   "metadata": {},
   "outputs": [],
   "source": [
    "def crea_grafo_da_matrice(matrice):\n",
    "    grafo = {}\n",
    "    numero_nodi = len(matrice)\n",
    "    for i in range(numero_nodi):\n",
    "        nodi_adiacenti = []\n",
    "        for j in range(numero_nodi):\n",
    "            if matrice[i][j] == 1:\n",
    "                nodi_adiacenti.append(j)\n",
    "        grafo[i] = nodi_adiacenti\n",
    "    return grafo"
   ]
  },
  {
   "cell_type": "markdown",
   "metadata": {},
   "source": [
    "---"
   ]
  },
  {
   "cell_type": "markdown",
   "metadata": {},
   "source": [
    "**Creo una funzione per stampare in output il grafo, in modo tale da poterne visualizzare il contenuto**"
   ]
  },
  {
   "cell_type": "code",
   "execution_count": 5,
   "metadata": {},
   "outputs": [],
   "source": [
    "def stampa_grafo(grafo):\n",
    "    for nodo, adiacenti in grafo.items():\n",
    "        print(f\"Nodo {nodo}: {adiacenti}\")"
   ]
  },
  {
   "cell_type": "markdown",
   "metadata": {},
   "source": [
    "---"
   ]
  },
  {
   "cell_type": "markdown",
   "metadata": {},
   "source": [
    "**A questo punto creo 2 funzioni di rappresentazione grafica del grafo**\n",
    "###### Essendo che la differenza tra orientato e non richiede due metodi di rappresentazione differenti, è necessario creare 2 funzioni separate"
   ]
  },
  {
   "cell_type": "code",
   "execution_count": 6,
   "metadata": {},
   "outputs": [],
   "source": [
    "def graphical_graph_oriented(grafo):\n",
    "    grafo=nx.MultiDiGraph(grafo)\n",
    "    pos = nx.spring_layout(grafo, seed=42)  # Posizione dei nodi nel grafico\n",
    "    nx.draw(grafo, pos, with_labels=True, node_color='skyblue', node_size=1500, font_size=12, font_weight='bold', width=1, edge_color='gray', arrows=True, arrowsize=15, arrowstyle='-|>')\n",
    "    plt.show()"
   ]
  },
  {
   "cell_type": "code",
   "execution_count": 7,
   "metadata": {},
   "outputs": [],
   "source": [
    "def graphical_graph_not_oriented(grafo):\n",
    "    grafo=nx.Graph(grafo)\n",
    "    pos = nx.spring_layout(grafo, seed=42)  # Posizione dei nodi nel grafico\n",
    "    nx.draw(grafo, pos, with_labels=True, node_color='skyblue', node_size=1500, font_size=12, font_weight='bold', width=1, edge_color='black', arrows=False, arrowsize=15, arrowstyle='-|>')\n",
    "    plt.show()"
   ]
  },
  {
   "cell_type": "markdown",
   "metadata": {},
   "source": [
    "---"
   ]
  },
  {
   "cell_type": "markdown",
   "metadata": {},
   "source": [
    "**Creo quindi una funzione per verificare se il grafo sia ORIENTATO o NON ORIENTATO, a seconda che la matrice precedentemente creata sia simmetrica rispetto alla diagonale principale**\n",
    "###### Per il controllo verifico se la matrice corrisponde alla sua trasposta usando la funzione '.T' del modulo numpy"
   ]
  },
  {
   "cell_type": "code",
   "execution_count": 8,
   "metadata": {},
   "outputs": [],
   "source": [
    "def isOriented(matrix, graph):\n",
    "    # Controllo se la matrice è simmetrica (se coincide con la sua trasposta)\n",
    "    if np.array_equal(matrix, matrix.T):\n",
    "        print(\"Il grafo e' NON ORIENTATO\")\n",
    "        print(f\"Rappresentazione grafica...\\n\")\n",
    "        graphical_graph_not_oriented(graph)\n",
    "    else:\n",
    "        print(\"Il grafo è ORIENTATO\")\n",
    "        print(f\"Rappresentazione grafica...\\n\")\n",
    "        graphical_graph_oriented(graph)"
   ]
  },
  {
   "cell_type": "markdown",
   "metadata": {},
   "source": [
    "---"
   ]
  },
  {
   "cell_type": "markdown",
   "metadata": {},
   "source": [
    "**Applico quindi l'algoritmo di Dijkstra, la cui funzione è quella di garantire la determinazione del cammino più breve da un nodo di partenza a tutti gli altri nodi con pesi non negativi**\n"
   ]
  },
  {
   "cell_type": "code",
   "execution_count": 9,
   "metadata": {},
   "outputs": [],
   "source": [
    "def dijkstra(graph, start_node):\n",
    "    # Inizializzazione dei dizionari per i costi minimi e i predecessori\n",
    "    inf = float('inf')\n",
    "    costo_minimo = {nodo: inf for nodo in graph}\n",
    "    predecessore = {nodo: None for nodo in graph}\n",
    "    costo_minimo[start_node] = 0\n",
    "    \n",
    "    # Inizializzazione della lista dei nodi da visitare\n",
    "    nodi_da_visitare = list(graph.keys())\n",
    "    \n",
    "    while nodi_da_visitare:\n",
    "        # Trova il nodo con il costo minimo tra i nodi da visitare\n",
    "        nodo_corrente = min(nodi_da_visitare, key=lambda nodo: costo_minimo[nodo])\n",
    "        nodi_da_visitare.remove(nodo_corrente)\n",
    "        \n",
    "        # Aggiorna i costi minimi e i predecessori per i nodi adiacenti\n",
    "        for nodo_adiacente in graph[nodo_corrente]:\n",
    "            nuovo_costo = costo_minimo[nodo_corrente] + 1 # Assumendo che ogni arco abbia un costo di 1\n",
    "            if nuovo_costo < costo_minimo[nodo_adiacente]:\n",
    "                costo_minimo[nodo_adiacente] = nuovo_costo\n",
    "                predecessore[nodo_adiacente] = nodo_corrente\n",
    "    \n",
    "    return costo_minimo, predecessore"
   ]
  },
  {
   "cell_type": "markdown",
   "metadata": {},
   "source": [
    "---"
   ]
  },
  {
   "cell_type": "markdown",
   "metadata": {},
   "source": [
    "**Salvo il percorso del file contenente la matrice all'interno di una varaibile**"
   ]
  },
  {
   "cell_type": "code",
   "execution_count": 10,
   "metadata": {},
   "outputs": [],
   "source": [
    "file_path='matrice_adiacenza.csv'"
   ]
  },
  {
   "cell_type": "markdown",
   "metadata": {},
   "source": [
    "---"
   ]
  },
  {
   "cell_type": "markdown",
   "metadata": {},
   "source": [
    "**Richiamo quindi la funzione 'csv_read' creata in precedenza per leggere il conetnuto di 'file_path' e salvarlo all'interno della variabile 'matrix'**"
   ]
  },
  {
   "cell_type": "code",
   "execution_count": 11,
   "metadata": {},
   "outputs": [
    {
     "name": "stdout",
     "output_type": "stream",
     "text": [
      "La matrice letta da csv e':\n",
      " [[0 2 1 2 2]\n",
      " [2 0 1 2 1]\n",
      " [2 1 0 2 1]\n",
      " [2 1 1 0 2]\n",
      " [2 1 1 2 0]]\n",
      "\n"
     ]
    }
   ],
   "source": [
    "matrix=csv_read(file_path)\n",
    "print(f\"La matrice letta da csv e':\\n {matrix}\\n\")"
   ]
  },
  {
   "cell_type": "markdown",
   "metadata": {},
   "source": [
    "---"
   ]
  },
  {
   "cell_type": "markdown",
   "metadata": {},
   "source": [
    "**Istanzio un nuovo grafo utilizzando la matrice**"
   ]
  },
  {
   "cell_type": "code",
   "execution_count": 12,
   "metadata": {},
   "outputs": [
    {
     "name": "stdout",
     "output_type": "stream",
     "text": [
      "Il grafo relativo possiede i seguenti nodi:\n",
      " {0: [2], 1: [2, 4], 2: [1, 4], 3: [1, 2], 4: [1, 2]}\n",
      "\n"
     ]
    }
   ],
   "source": [
    "graph=crea_grafo_da_matrice(matrix)\n",
    "print(f\"Il grafo relativo possiede i seguenti nodi:\\n {graph}\\n\")"
   ]
  },
  {
   "cell_type": "markdown",
   "metadata": {},
   "source": [
    "---"
   ]
  },
  {
   "cell_type": "markdown",
   "metadata": {},
   "source": [
    "**Tramite la funzione 'isOriented()' verifico l'orientamento del grafo e lo rappresento graficamente tramite le funzioni del modulo python 'networkx'**"
   ]
  },
  {
   "cell_type": "code",
   "execution_count": 13,
   "metadata": {},
   "outputs": [
    {
     "name": "stdout",
     "output_type": "stream",
     "text": [
      "Il grafo è ORIENTATO\n",
      "Rappresentazione grafica...\n",
      "\n"
     ]
    },
    {
     "data": {
      "image/png": "[encoded data removed]",
      "text/plain": [
       "<Figure size 640x480 with 1 Axes>"
      ]
     },
     "metadata": {},
     "output_type": "display_data"
    }
   ],
   "source": [
    "isOriented(matrix, graph)"
   ]
  },
  {
   "cell_type": "markdown",
   "metadata": {},
   "source": [
    "---"
   ]
  },
  {
   "cell_type": "markdown",
   "metadata": {},
   "source": [
    "**Dichiaro i 3 parametri che mi servireanno per poter utilizzare l'algoritmo di Dijkstra**"
   ]
  },
  {
   "cell_type": "code",
   "execution_count": 14,
   "metadata": {},
   "outputs": [],
   "source": [
    "start_node = 0  # Specifica il nodo di partenza per l'algoritmo di Dijkstra\n",
    "costo_minimo, predecessore = dijkstra(graph, start_node)"
   ]
  },
  {
   "cell_type": "markdown",
   "metadata": {},
   "source": [
    "---"
   ]
  },
  {
   "cell_type": "markdown",
   "metadata": {},
   "source": [
    "**Infine stampo i risultati ottenuti tramite l'applicazione dell'algoritmo di Dijkstra**"
   ]
  },
  {
   "cell_type": "code",
   "execution_count": 15,
   "metadata": {},
   "outputs": [
    {
     "name": "stdout",
     "output_type": "stream",
     "text": [
      "Distanze più brevi dei vari nodi rispetto al nodo [ 0 ]:\n",
      "Nodo\tCosto Minimo\tPredecessore\n",
      "0 \t0 \t\tNone\n",
      "1 \t2 \t\t2\n",
      "2 \t1 \t\t0\n",
      "3 \tinf \t\tNone\n",
      "4 \t2 \t\t2\n"
     ]
    }
   ],
   "source": [
    "print(f\"Distanze più brevi dei vari nodi rispetto al nodo [ {start_node} ]:\")\n",
    "print(\"Nodo\\tCosto Minimo\\tPredecessore\")\n",
    "for nodo, costo in costo_minimo.items():\n",
    "    predecessore_nodo = predecessore[nodo]\n",
    "    print(f\"{nodo} \\t{costo} \\t\\t{predecessore_nodo}\")"
   ]
  }
 ],
 "metadata": {
  "kernelspec": {
   "display_name": "Python 3",
   "language": "python",
   "name": "python3"
  },
  "language_info": {
   "codemirror_mode": {
    "name": "ipython",
    "version": 3
   },
   "file_extension": ".py",
   "mimetype": "text/x-python",
   "name": "python",
   "nbconvert_exporter": "python",
   "pygments_lexer": "ipython3",
   "version": "3.11.7"
  }
 },
 "nbformat": 4,
 "nbformat_minor": 2
}
